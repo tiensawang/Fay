{
 "cells": [
  {
   "cell_type": "markdown",
   "metadata": {},
   "source": [
    "### Exercise 1\n",
    "print tuple \"c\" with sum of value in a, b"
   ]
  },
  {
   "cell_type": "code",
   "execution_count": 4,
   "metadata": {},
   "outputs": [
    {
     "data": {
      "text/plain": [
       "[93, 56, 34]"
      ]
     },
     "execution_count": 4,
     "metadata": {},
     "output_type": "execute_result"
    }
   ],
   "source": [
    "a = [10,11,12]\n",
    "b = [83,45,22]\n",
    "c = []\n",
    "for index,value in enumerate(a):\n",
    "    c_value = a[index]+b[index]\n",
    "    c.append(c_value)\n",
    "c"
   ]
  },
  {
   "cell_type": "markdown",
   "metadata": {},
   "source": [
    "### Exercise 2"
   ]
  },
  {
   "cell_type": "code",
   "execution_count": 1,
   "metadata": {},
   "outputs": [
    {
     "data": {
      "text/plain": [
       "'543210'"
      ]
     },
     "execution_count": 1,
     "metadata": {},
     "output_type": "execute_result"
    }
   ],
   "source": [
    "def count_to_zero(numb):\n",
    "    temp = \"\"\n",
    "    while numb>=0:\n",
    "        temp = temp + str(numb)\n",
    "        numb = numb-1\n",
    "    return temp\n",
    "a = count_to_zero(5)\n",
    "a"
   ]
  },
  {
   "cell_type": "markdown",
   "metadata": {},
   "source": [
    "def....: return\n",
    "\n",
    "ใช้เพื่อเรีนกใช้งาน funtion นั้นได้เลย ไม่เขียนซ้ำหลายรอบ\n"
   ]
  },
  {
   "cell_type": "markdown",
   "metadata": {},
   "source": [
    "### Exercise 3"
   ]
  },
  {
   "cell_type": "code",
   "execution_count": 3,
   "metadata": {
    "scrolled": true
   },
   "outputs": [
    {
     "name": "stdout",
     "output_type": "stream",
     "text": [
      "Total: 60\n"
     ]
    }
   ],
   "source": [
    "price=[10,20,30]\n",
    "total=0\n",
    "for x in price:\n",
    "    total= total+x\n",
    "print(f\"Total: {total}\")## f\"{for referred variable } \" >> f-string format"
   ]
  },
  {
   "cell_type": "markdown",
   "metadata": {},
   "source": [
    "### Exercise 4"
   ]
  },
  {
   "cell_type": "code",
   "execution_count": 3,
   "metadata": {
    "scrolled": true
   },
   "outputs": [
    {
     "name": "stdout",
     "output_type": "stream",
     "text": [
      "7\n"
     ]
    }
   ],
   "source": [
    "numbers=[2,7,4,1,9,8]\n",
    "max=numbers[0]\n",
    "for x in numbers:\n",
    "    if x > max:\n",
    "        max = x \n",
    "        print(max)\n",
    "        "
   ]
  },
  {
   "cell_type": "markdown",
   "metadata": {},
   "source": [
    "### Exercise 5 # remove duplicate"
   ]
  },
  {
   "cell_type": "raw",
   "metadata": {},
   "source": [
    "a=[2,5,4,8,2,4,1]\n",
    "b=[]\n",
    "for x in a:\n",
    "    if x not in b:\n",
    "         b.append(x)\n",
    "        \n",
    "print(b)"
   ]
  },
  {
   "cell_type": "markdown",
   "metadata": {},
   "source": [
    "### Exercise 6"
   ]
  },
  {
   "cell_type": "code",
   "execution_count": 16,
   "metadata": {},
   "outputs": [
    {
     "name": "stdout",
     "output_type": "stream",
     "text": [
      "phone:9739324692\n",
      "nine seven three nine three two four six nine two \n"
     ]
    }
   ],
   "source": [
    "phone=input(\"phone:\")\n",
    "digit_map={\n",
    "    \"1\":\"one\" ,\n",
    "    \"2\":\"two\" ,\n",
    "    \"3\":\"three\" ,\n",
    "    \"4\":\"four\" ,\n",
    "    \"5\":\"five\",\n",
    "    \"6\":\"six\",\n",
    "    \"7\":\"seven\",\n",
    "    \"8\":\"eight\",\n",
    "    \"9\":\"nine\",\n",
    "}\n",
    "output=\"\"\n",
    "for digit in phone:\n",
    "    output = output + digit_map.get(digit)+\" \"## \"\" at the end is space between each digit_map\n",
    "print(output)"
   ]
  },
  {
   "cell_type": "code",
   "execution_count": 2,
   "metadata": {},
   "outputs": [
    {
     "name": "stdout",
     "output_type": "stream",
     "text": [
      "a1\n",
      "b1\n",
      "c1\n"
     ]
    }
   ],
   "source": [
    "def Print(A):\n",
    "    for a in A:\n",
    "        print(a+\"1\")\n",
    "        \n",
    "Print(['a','b','c'])"
   ]
  },
  {
   "cell_type": "code",
   "execution_count": 6,
   "metadata": {},
   "outputs": [
    {
     "ename": "NameError",
     "evalue": "name 'Circle' is not defined",
     "output_type": "error",
     "traceback": [
      "\u001b[0;31m---------------------------------------------------------------------------\u001b[0m",
      "\u001b[0;31mNameError\u001b[0m                                 Traceback (most recent call last)",
      "\u001b[0;32m<ipython-input-6-91b7cd343752>\u001b[0m in \u001b[0;36m<module>\u001b[0;34m\u001b[0m\n\u001b[0;32m----> 1\u001b[0;31m \u001b[0mblueCircle\u001b[0m\u001b[0;34m=\u001b[0m\u001b[0mCircle\u001b[0m\u001b[0;34m(\u001b[0m\u001b[0;36m3\u001b[0m\u001b[0;34m,\u001b[0m\u001b[0;34m\"red\"\u001b[0m\u001b[0;34m)\u001b[0m\u001b[0;34m\u001b[0m\u001b[0;34m\u001b[0m\u001b[0m\n\u001b[0m",
      "\u001b[0;31mNameError\u001b[0m: name 'Circle' is not defined"
     ]
    }
   ],
   "source": [
    "blueCircle=Circle(3,\"red\")"
   ]
  },
  {
   "cell_type": "code",
   "execution_count": null,
   "metadata": {},
   "outputs": [],
   "source": []
  },
  {
   "cell_type": "code",
   "execution_count": null,
   "metadata": {},
   "outputs": [],
   "source": []
  }
 ],
 "metadata": {
  "kernelspec": {
   "display_name": "Python 3",
   "language": "python",
   "name": "python3"
  },
  "language_info": {
   "codemirror_mode": {
    "name": "ipython",
    "version": 3
   },
   "file_extension": ".py",
   "mimetype": "text/x-python",
   "name": "python",
   "nbconvert_exporter": "python",
   "pygments_lexer": "ipython3",
   "version": "3.7.1"
  }
 },
 "nbformat": 4,
 "nbformat_minor": 2
}
